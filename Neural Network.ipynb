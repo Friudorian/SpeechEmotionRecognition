{
 "cells": [
  {
   "cell_type": "code",
   "execution_count": 6,
   "metadata": {},
   "outputs": [],
   "source": [
    "import pickle\n",
    "features = pickle.load(open('NDA_NOPAD_MFCC&PitchOnly.p',\"rb\"))"
   ]
  },
  {
   "cell_type": "code",
   "execution_count": 7,
   "metadata": {},
   "outputs": [],
   "source": [
    "import pandas as pd\n",
    "columns = [\"name\",\"features\",\"emotion\"]\n",
    "features = pd.DataFrame(data = features, columns = columns)"
   ]
  },
  {
   "cell_type": "markdown",
   "metadata": {},
   "source": [
    "Ricordiamo anche in questo modulo la distribuzione del dataset"
   ]
  },
  {
   "cell_type": "code",
   "execution_count": 10,
   "metadata": {},
   "outputs": [
    {
     "data": {
      "image/png": "[encoded data removed]",
      "text/plain": [
       "<matplotlib.figure.Figure at 0x21403a93240>"
      ]
     },
     "metadata": {},
     "output_type": "display_data"
    }
   ],
   "source": [
    "%matplotlib inline\n",
    "\n",
    "labels = set(features['emotion'])\n",
    "count = [[label,list(features['emotion']).count(label)] for label in labels]\n",
    "dict_count = dict(count)\n",
    "\n",
    "import matplotlib.pyplot as plt\n",
    "\n",
    "fig = plt.gcf()\n",
    "plt.title(\"Distribuzione delle etichette sugli elementi del dataset\"), fig.set_size_inches(16, 8)\n",
    "plt.bar(range(len(dict_count)), dict_count.values()), plt.xticks(range(len(dict_count)), dict_count.keys())\n",
    "plt.show()"
   ]
  },
  {
   "cell_type": "markdown",
   "metadata": {},
   "source": [
    "Definiamo la funzione per associare un vettore in cui l'elemento i-esimo = 1 sse i è l'indice dell'emozione indicata dal label.\n",
    "Tale funzione è necessaria perché l'output della rete neurale sarà un vettore con una misura di probabilità per ogni emozione."
   ]
  },
  {
   "cell_type": "code",
   "execution_count": 11,
   "metadata": {},
   "outputs": [],
   "source": [
    "import sklearn.preprocessing as prep\n",
    "import numpy as np\n",
    "Emotions = {\"Rabbia\": 0, \"Noia\": 1, \"Disgusto\": 2, \"Paura\": 3, \"Gioia\": 4, \"Tristezza\": 5, \"Neutro\": 6}\n",
    "def one_hot_encode(labels):\n",
    "    n_labels= len(labels)\n",
    "    labelt = []\n",
    "    for l in labels:\n",
    "        labelt.append(Emotions[l])\n",
    "    n_unique_labels = len(np.unique(labelt))\n",
    "    one_hot_encode = np.zeros((n_labels,n_unique_labels))\n",
    "    one_hot_encode[np.arange(n_labels), labelt] = 1\n",
    "    return one_hot_encode\n",
    "\n",
    "def numberEncode(labels):\n",
    "    n_labels= len(labels)\n",
    "    labelt = []\n",
    "    for l in labels:\n",
    "        labelt.append(Emotions[l])\n",
    "    return labelt"
   ]
  },
  {
   "cell_type": "markdown",
   "metadata": {},
   "source": [
    "Suddividiamo il dataset per fare la cross-validation."
   ]
  },
  {
   "cell_type": "code",
   "execution_count": 12,
   "metadata": {
    "scrolled": false
   },
   "outputs": [],
   "source": [
    "#-----------------IL seguente blocco di codice serve a gestire la data augmentation-----------------------\n",
    "# from sklearn.model_selection import KFold\n",
    "# import numpy as np\n",
    "\n",
    "# yLong = features['emotion']\n",
    "# xLong = features.drop(['name','emotion'], 1)\n",
    "\n",
    "# featuresShort= features.iloc[::3]\n",
    "# y = featuresShort['emotion']\n",
    "# x = featuresShort.drop(['name','emotion'], 1)\n",
    "\n",
    "# nsplits= 10\n",
    "# kf = KFold(nsplits, shuffle = True, random_state = 3)\n",
    "# folds = kf.split(x,y)\n",
    "\n",
    "# train_data=[]\n",
    "# train_label=[]\n",
    "# test_data=[]\n",
    "# test_label=[]\n",
    "# for f in folds:\n",
    "#     train = f[0]*3\n",
    "#     for i in train:\n",
    "#         train= np.append(train,i+1)\n",
    "#         train= np.append(train,i+2)\n",
    "#     train = np.sort(train)\n",
    "#     test = f[1]*3\n",
    "#     train_data.append(np.array(list(xLong.iloc[train]['features'])))\n",
    "#     train_label.append(np.array(list(yLong.iloc[train])))\n",
    "#     test_data.append(np.array(list(xLong.iloc[test]['features'])))\n",
    "#     test_label.append(np.array(list(yLong.iloc[test])))\n",
    "\n",
    "from sklearn.model_selection import KFold\n",
    "import numpy as np\n",
    "\n",
    "y = features['emotion']\n",
    "x = features.drop(['name','emotion'], 1)\n",
    "\n",
    "nsplits= 10\n",
    "kf = KFold(nsplits, shuffle = True, random_state = 3)\n",
    "folds = kf.split(x,y)\n",
    "\n",
    "train_data=[]\n",
    "train_label=[]\n",
    "test_data=[]\n",
    "test_label=[]\n",
    "for f in folds:\n",
    "    train_data.append(np.array(list(x.iloc[f[0]]['features'])))\n",
    "    train_label.append(one_hot_encode(np.array(list(y.iloc[f[0]]))))\n",
    "    test_data.append(np.array(list(x.iloc[f[1]]['features'])))\n",
    "    test_label.append(one_hot_encode(np.array(list(y.iloc[f[1]]))))"
   ]
  },
  {
   "cell_type": "markdown",
   "metadata": {},
   "source": [
    "Verifichiamo che le dimensioni siano corrette"
   ]
  },
  {
   "cell_type": "code",
   "execution_count": 13,
   "metadata": {
    "scrolled": false
   },
   "outputs": [
    {
     "name": "stdout",
     "output_type": "stream",
     "text": [
      "Dimensione dei fold di train: 481 elementi\n",
      "Dimensione dei fold di test: 54 elementi\n"
     ]
    }
   ],
   "source": [
    "trainsize = len(train_data[0]);\n",
    "testsize= len(test_data[0]);\n",
    "print (\"Dimensione dei fold di train: \" + str(len(train_data[0])) + \" elementi\")\n",
    "print (\"Dimensione dei fold di test: \" + str(len(test_data[0])) + \" elementi\")"
   ]
  },
  {
   "cell_type": "markdown",
   "metadata": {},
   "source": [
    "Settiamo i parametri della rete, definendo una funzione che copre tutta la gestione di quest'ultima. Così ci risulta estremamente comodo testarla con vari parametri, in particolare il numero di neuroni"
   ]
  },
  {
   "cell_type": "code",
   "execution_count": 16,
   "metadata": {},
   "outputs": [],
   "source": [
    "import tensorflow as tf\n",
    "from sklearn.metrics import precision_recall_fscore_support\n",
    "def nn_run(training_epochs,dim_one,dim_three,f):\n",
    "    #parametri principali\n",
    "    n_dim =155 #dimensione delle feature\n",
    "    n_classes = 7\n",
    "    n_hidden_units_one = dim_one\n",
    "    n_hidden_units_three = dim_three\n",
    "    sd = 1 / np.sqrt(n_dim)\n",
    "    learning_rate = 0.001\n",
    "    \n",
    "    #input layer\n",
    "    X = tf.placeholder(tf.float32,[None,n_dim])\n",
    "    \n",
    "    #per le etichette reali, così da confrontarle con l'output della rete\n",
    "    Y = tf.placeholder(tf.float32,[None,n_classes])\n",
    "    \n",
    "    #per la funzione di drop-off\n",
    "    keep_prob = tf.placeholder(tf.float32)\n",
    "\n",
    "    #primo hidden layer\n",
    "    W_1 = tf.Variable(tf.random_normal([n_dim,n_hidden_units_one], mean = 0, stddev=sd))\n",
    "    b_1 = tf.Variable(tf.random_normal([n_hidden_units_one], mean = 0, stddev=sd))\n",
    "    h_1 = tf.nn.relu(tf.matmul(X,W_1) + b_1)\n",
    "\n",
    "    #secondo hidden layer\n",
    "    W_3 = tf.Variable(tf.random_normal([n_hidden_units_one,n_hidden_units_three], mean = 0, stddev=sd))\n",
    "    b_3 = tf.Variable(tf.random_normal([n_hidden_units_three], mean = 0, stddev=sd))\n",
    "    h_3 = tf.nn.relu(tf.matmul(h_1,W_3) + b_3)\n",
    "\n",
    "    drop_out = tf.nn.dropout(h_3, keep_prob)\n",
    "    \n",
    "    #output layer\n",
    "    W = tf.Variable(tf.random_normal([n_hidden_units_three,n_classes], mean = 0, stddev=sd))\n",
    "    b = tf.Variable(tf.random_normal([n_classes], mean = 0, stddev=sd))\n",
    "    y_ = tf.nn.softmax(tf.matmul(drop_out,W) + b) \n",
    "    \n",
    "    #calcolo della cross-entropia ed passo di discesa del gradiente\n",
    "    cost_function = tf.reduce_mean(-tf.reduce_sum(Y*tf.log(tf.clip_by_value(y_,1e-11,1.0))))\n",
    "    optimizer = tf.train.AdamOptimizer(learning_rate).minimize(cost_function)\n",
    "\n",
    "    #calcolo dell'accuratezza\n",
    "    correct_prediction = tf.equal(tf.argmax(y_,1), tf.argmax(Y,1))\n",
    "    accuracy = tf.reduce_mean(tf.cast(correct_prediction, tf.float32))\n",
    "    \n",
    "    #inizializzazione delle variabili\n",
    "    init = tf.global_variables_initializer()\n",
    "    \n",
    "    #allocazione array per memorizzare i vari parametri in output: \n",
    "    #il costo, ovvero la funzione di perdita\n",
    "    cost_history = np.empty(shape=[1],dtype=float)\n",
    "    #accuratezza\n",
    "    acc_history = np.empty(shape=[1],dtype=float)\n",
    "    \n",
    "    \n",
    "    #eseguiamo tensorflow con l'ausilio della GPU\n",
    "    with tf.device('/gpu:0'):\n",
    "        #prepariamo l'esecuzione della rete\n",
    "        with tf.Session() as sess:\n",
    "            sess.run(init)\n",
    "            \n",
    "            #esecuzione della rete nelle varie epoche\n",
    "            for epoch in range(training_epochs):\n",
    "                \n",
    "                #la rete viene feedata con un insieme random di elementi\n",
    "                index = int(np.random.uniform(0,trainsize,1))\n",
    "                batch_size = 13 # Divisore del mio trainsize\n",
    "                \n",
    "                #addestramento della rete\n",
    "                _,cost = sess.run([optimizer,cost_function],feed_dict={X:train_data[f][index:index+batch_size, :],\n",
    "                                                               Y:train_label[f][index:index+batch_size, :], keep_prob : 0.5})\n",
    "                #memorizzazione valori in output\n",
    "                cost_history = np.append(cost_history,cost)\n",
    "                acc_history = np.append(acc_history,round(sess.run(accuracy, feed_dict={X:test_data[f], Y:test_label[f], keep_prob : 1.0}),3))\n",
    "\n",
    "    return max(acc_history[1:])"
   ]
  },
  {
   "cell_type": "markdown",
   "metadata": {},
   "source": [
    "Definiamo le funzioni per eseguire la rete. \n",
    "In particolare anche la gestione della cross-validation, che, seppur onerosa, è necessaria per offrire dei risultati affidabili.\n",
    "Quello che segue è un esempio di run, i risultati migliori si trovano sull'omonimo file .html consegnato"
   ]
  },
  {
   "cell_type": "code",
   "execution_count": 19,
   "metadata": {},
   "outputs": [
    {
     "name": "stdout",
     "output_type": "stream",
     "text": [
      "0.8803999960422516\n",
      "[0.852      0.852      0.94400001 0.87       0.889      0.86799997\n",
      " 0.90600002 0.86799997 0.88700002 0.86799997]\n",
      "0.8726999998092652\n",
      "[0.852      0.852      0.94400001 0.87       0.90700001 0.88700002\n",
      " 0.90600002 0.792      0.84899998 0.86799997]\n",
      "0.8801999986171722\n",
      "[0.889      0.833      0.963      0.87       0.87       0.84899998\n",
      " 0.94300002 0.82999998 0.86799997 0.88700002]\n"
     ]
    }
   ],
   "source": [
    "def setParamandRun(epochs,layer1,layer2):\n",
    "    #eseguito nsplits di volte la rete neurale per la cross-validation.\n",
    "    maxacc=[]\n",
    "    for i in range(nsplits):\n",
    "        maxacc= np.append(maxacc,nn_run(epochs,layer1,layer2,i))\n",
    "    print (np.mean(maxacc))\n",
    "    return maxacc\n",
    "\n",
    "for i in range(130,160,10):\n",
    "    print(setParamandRun(5000,i,i))"
   ]
  },
  {
   "cell_type": "code",
   "execution_count": null,
   "metadata": {},
   "outputs": [],
   "source": []
  }
 ],
 "metadata": {
  "kernelspec": {
   "display_name": "Python 3",
   "language": "python",
   "name": "python3"
  },
  "language_info": {
   "codemirror_mode": {
    "name": "ipython",
    "version": 3
   },
   "file_extension": ".py",
   "mimetype": "text/x-python",
   "name": "python",
   "nbconvert_exporter": "python",
   "pygments_lexer": "ipython3",
   "version": "3.6.4"
  }
 },
 "nbformat": 4,
 "nbformat_minor": 2
}
